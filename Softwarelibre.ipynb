{
 "cells": [
  {
   "cell_type": "markdown",
   "metadata": {
    "slideshow": {
     "slide_type": "slide"
    }
   },
   "source": [
    "# Presentación Etica Y Profesión"
   ]
  },
  {
   "cell_type": "markdown",
   "metadata": {
    "slideshow": {
     "slide_type": "slide"
    }
   },
   "source": [
    "## Software libre\n",
    "\n",
    "\n",
    "## El movimiento del software libre\n",
    "\n",
    "Es un **movimiento social y político**, dentro de la comunidad hacker, cuyo objetivo es garantizar a los usuarios cuatro libertades básicas.\n",
    "\n"
   ]
  },
  {
   "cell_type": "markdown",
   "metadata": {
    "slideshow": {
     "slide_type": "slide"
    }
   },
   "source": [
    "## Las 4 libertades del software libre\n",
    "\n",
    "**Ejecutar el programa** con cualquier propósito.\n",
    "\n",
    "**Cómo funciona el programa y modificarlo** de acuerdo a las necesidades del usuario.\n",
    "\n",
    "**Redistribuir copias** del programa, y así ayudar a los demás.\n",
    "\n",
    "**Mejorar el programa y publicar dichas mejoras** (y las versiones modificadas, en general), para beneficio de toda la comunidad."
   ]
  },
  {
   "cell_type": "markdown",
   "metadata": {
    "slideshow": {
     "slide_type": "slide"
    }
   },
   "source": [
    "## La filosofía del software libre\n",
    "\n",
    "\n",
    "-  **Cooperación**\n",
    "\n",
    "    \n",
    "-  **Rechazar**\n",
    "\n",
    "    \n"
   ]
  },
  {
   "cell_type": "markdown",
   "metadata": {
    "slideshow": {
     "slide_type": "slide"
    }
   },
   "source": [
    "## “Libre” versus “Gratis”\n",
    "\n",
    "\n",
    "\n",
    " ## Licencias de uso\n",
    "\n",
    "- **De código cerrado**\n",
    "\n",
    "- **De dominio público**\n",
    "\n",
    "- **De código abierto**\n",
    "\n",
    "    - **Permisivas** (MIT License)\n",
    "    - **Robustas** (GNU General Public License)\n",
    "    - **Robustas fuertes** (GNU Lesser General Public License)"
   ]
  },
  {
   "cell_type": "markdown",
   "metadata": {
    "slideshow": {
     "slide_type": "slide"
    }
   },
   "source": [
    "## Software libre en las empresas\n",
    "\n",
    "Pueden aportanto **dinero** o **conocimiento**.\n",
    "\n",
    "El aporte de **conocimiento** no se limita sólo a la programación.\n",
    "\n",
    "Estos aportes pueden tener un enfoque: **Utilidad** o **Altruista**"
   ]
  },
  {
   "cell_type": "markdown",
   "metadata": {
    "slideshow": {
     "slide_type": "slide"
    }
   },
   "source": [
    "## Software libre en la universidad\n",
    "\n",
    "    • Localización.\n",
    "    • Perennidad.\n",
    "    • Confidencialidad."
   ]
  }
 ],
 "metadata": {
  "celltoolbar": "Slideshow",
  "kernelspec": {
   "display_name": "Python 3",
   "language": "python",
   "name": "python3"
  },
  "language_info": {
   "codemirror_mode": {
    "name": "ipython",
    "version": 3
   },
   "file_extension": ".py",
   "mimetype": "text/x-python",
   "name": "python",
   "nbconvert_exporter": "python",
   "pygments_lexer": "ipython3",
   "version": "3.6.8"
  }
 },
 "nbformat": 4,
 "nbformat_minor": 4
}
