{
 "cells": [
  {
   "cell_type": "markdown",
   "metadata": {
    "slideshow": {
     "slide_type": "slide"
    }
   },
   "source": [
    "# Presentación Etica Y Profesión"
   ]
  },
  {
   "cell_type": "markdown",
   "metadata": {},
   "source": [
    "## Desarrollo sostenible\n",
    "\n",
    "**Conceptos preliminares**\n",
    "\n",
    "## Externalidades\n",
    "\n",
    "Las **externalidades** pueden ser **positivas** o **negativas**.\n",
    "\n",
    "\n",
    "## Stakeholders\n",
    "\n",
    "Las **Stakeholders** pueden ser **primarios** o **segcundarios**."
   ]
  },
  {
   "cell_type": "markdown",
   "metadata": {
    "slideshow": {
     "slide_type": "subslide"
    }
   },
   "source": [
    "## Definición Desarrollo sostenible\n",
    "\n",
    "Planeta con **recursos limitados**.\n",
    "\n",
    "**Mejorar** las **condiciones de vida**.\n",
    "\n",
    "**Explotación racional** y que evitar el deterioro **del medio ambiente**.\n"
   ]
  },
  {
   "cell_type": "markdown",
   "metadata": {
    "slideshow": {
     "slide_type": "subslide"
    }
   },
   "source": [
    "## Triple línea base de la sustentabilidad\n",
    "\n",
    "\n",
    "-  **Crecimiento económico**\n",
    "\n",
    "    \n",
    "-  **Progreso y desarrollo social**\n",
    "\n",
    "    \n",
    "-  **Equilibrio ecológico**\n"
   ]
  },
  {
   "cell_type": "markdown",
   "metadata": {},
   "source": [
    "## Rasgos del desarrollo sostenible\n",
    "\n",
    "El desarrollo sostenible tiene **dos rasgos básicos**:\n",
    "\n",
    "-  **Perdurabilidad**\n",
    "\n",
    "    \n",
    "-  **Integralidad**"
   ]
  },
  {
   "cell_type": "markdown",
   "metadata": {},
   "source": [
    "## Objetivos del desarrollo sostenible\n",
    "\n",
    "Al desarrollo sostenible se le pueden adjudicar objetivos **económicos**, **sociales** y **ambientales**.\n",
    "\n",
    "**Objetivos económicos**\n",
    "\n",
    "**Objetivos sociales**\n",
    "\n",
    "**Objetivos ambientales**"
   ]
  },
  {
   "cell_type": "markdown",
   "metadata": {},
   "source": [
    "## Desarrollo Sostenible\n",
    "\n",
    "El desarrollo sostenible es el **mejoramiento de la calidad de vida** de todos los seres humanos mediante la actividad económica.\n",
    "\n",
    "Es posible mediante un **modelo de gestión** denominado **Responsabilidad Social**.\n",
    "\n",
    "Según el ámbito, se hablará de **Responsabilidad Social Empresarial** (RSE /RSC) o de **Responsabilidad Social Universitaria** (RSU)."
   ]
  },
  {
   "cell_type": "code",
   "execution_count": null,
   "metadata": {},
   "outputs": [],
   "source": []
  }
 ],
 "metadata": {
  "kernelspec": {
   "display_name": "Python 3",
   "language": "python",
   "name": "python3"
  },
  "language_info": {
   "codemirror_mode": {
    "name": "ipython",
    "version": 3
   },
   "file_extension": ".py",
   "mimetype": "text/x-python",
   "name": "python",
   "nbconvert_exporter": "python",
   "pygments_lexer": "ipython3",
   "version": "3.6.8"
  }
 },
 "nbformat": 4,
 "nbformat_minor": 4
}
